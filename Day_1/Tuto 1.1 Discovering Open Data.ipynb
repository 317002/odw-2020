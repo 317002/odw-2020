{
 "cells": [
  {
   "cell_type": "markdown",
   "metadata": {
    "Collapsed": "false",
    "colab_type": "text",
    "id": "R_adEak0Q8NT"
   },
   "source": [
    "<img style=\"float: left;padding: 1.3em\" src=\"https://indico.in2p3.fr/event/18313/logo-786578160.png\">  \n",
    "\n",
    "#  Gravitational Wave Open Data Workshop #3\n",
    "\n",
    "\n",
    "#### Tutorial 1.1: Discovering open data from GW observatories\n",
    "\n",
    "This notebook describes how to discover what data are available from the [Gravitational-Wave Open Science Center (GWOSC)](https://www.gw-openscience.org).\n",
    "    \n",
    "[Click this link to view this tutorial in Google Colaboratory](https://colab.research.google.com/github/gw-odw/odw-2020/blob/master/Day_1/Tuto%201.1%20Discovering%20Open%20Data.ipynb)"
   ]
  },
  {
   "cell_type": "markdown",
   "metadata": {
    "Collapsed": "false",
    "colab_type": "text",
    "id": "W6msjCJVQ8NV"
   },
   "source": [
    "## Software installation  (execute only if running on a cloud platform or haven't done the installation yet!)\n",
    "\n",
    "First, we need to install the software, which we do following the instruction in [Software Setup Instructions](https://github.com/gw-odw/odw-2020/blob/master/setup.md):"
   ]
  },
  {
   "cell_type": "code",
   "execution_count": 1,
   "metadata": {
    "Collapsed": "false",
    "colab": {
     "base_uri": "https://localhost:8080/",
     "height": 748
    },
    "colab_type": "code",
    "id": "DXoxopwkQ8NY",
    "outputId": "03a01be0-453f-4634-9470-9924639d9a88"
   },
   "outputs": [],
   "source": [
    "# -- Uncomment following line if running in Google Colab\n",
    "#! pip install -q 'gwpy==1.0.1'"
   ]
  },
  {
   "cell_type": "markdown",
   "metadata": {
    "Collapsed": "false",
    "colab_type": "text",
    "id": "mQ8Jjb0PQ8Ni"
   },
   "source": [
    "**Important:** With Google Colab, you may need to restart the runtime after running the cell above."
   ]
  },
  {
   "cell_type": "code",
   "execution_count": 2,
   "metadata": {},
   "outputs": [
    {
     "name": "stdout",
     "output_type": "stream",
     "text": [
      "0.5.3\n"
     ]
    }
   ],
   "source": [
    "#check the version of the package gwosc you are using\n",
    "import gwosc\n",
    "print(gwosc.__version__)"
   ]
  },
  {
   "cell_type": "markdown",
   "metadata": {},
   "source": [
    "The version you get should be 0.5.3. If it's not, check that you have followed all the steps in [Software Setup Instructions](https://github.com/gw-odw/odw-2020/blob/master/setup.md)."
   ]
  },
  {
   "cell_type": "markdown",
   "metadata": {
    "Collapsed": "false",
    "colab_type": "text",
    "id": "F3tmmQ-hQ8Nu"
   },
   "source": [
    "## Querying for event information\n",
    "\n",
    "The gwosc.datasets module provides tools to search for datasets, including filtering on GPS times.\n",
    "\n",
    "For example, we can search for what event datasets are available:"
   ]
  },
  {
   "cell_type": "code",
   "execution_count": 3,
   "metadata": {
    "Collapsed": "false",
    "colab": {
     "base_uri": "https://localhost:8080/",
     "height": 55
    },
    "colab_type": "code",
    "id": "-BkUqpvkQ8Nv",
    "outputId": "7447d54f-4aab-4994-bad0-599cf323db95"
   },
   "outputs": [
    {
     "name": "stdout",
     "output_type": "stream",
     "text": [
      "['GRB051103', 'GW150914', 'GW150914_R1', 'GW151012_R1', 'GW151226', 'GW151226_R1', 'GW170104', 'GW170104_R1', 'GW170608', 'GW170608_R1', 'GW170729_R1', 'GW170809_R1', 'GW170814', 'GW170814_R1', 'GW170817', 'GW170817_R1', 'GW170818_R1', 'GW170823_R1', 'LVT151012', 'MC151008_R1', 'MC151012A_R1', 'MC151116_R1', 'MC161202_R1', 'MC161217_R1', 'MC170208_R1', 'MC170219_R1', 'MC170405_R1', 'MC170412_R1', 'MC170423_R1', 'MC170616_R1', 'MC170630_R1', 'MC170705_R1', 'MC170720_R1', 'O1_O2_Preliminary_GW150914_R1', 'O1_O2_Preliminary_GW170608_R1', 'O1_O2_Preliminary_GW170814_R1', 'O1_O2_Preliminary_GW170817_R1', 'O1_O2_Preliminary_LVT151012_R1', 'O3_Discovery_Papers_GW190412_R1', 'O3_Discovery_Papers_GW190412_R2', 'O3_Discovery_Papers_GW190425_R1', 'blind_injection']\n"
     ]
    }
   ],
   "source": [
    "from gwosc.datasets import find_datasets\n",
    "events = find_datasets(type=\"event\")\n",
    "print(events)"
   ]
  },
  {
   "cell_type": "markdown",
   "metadata": {
    "Collapsed": "false",
    "colab_type": "text",
    "id": "hU1ORf0iQ8Nz"
   },
   "source": [
    "The events datasets labeled with `'GW'` represent confident detections. Of those, 11 where detected during O1 and O2 (see [GWTC-1](https://www.gw-openscience.org/GWTC-1/) for more details), the others where detected during O3 and are labeled as `'O3_Discovery_Papers'`. Many events datasets contain `'_R'+number` in their name: this indicates the number of the release, so R1 marks the first release of an event dataset, R2 the second and so on. If the release number is not indicated, this means it coincides with the first one. The prefix `'MC'` refers to _marginal_ detections (again see [GWTC-1](https://www.gw-openscience.org/GWTC-1/) for more details). The prefix `'O1_O2_Preliminary'` is used for the events published before the catalog GWTC-1.\n",
    "As you can see, for one event, different datasets can be available. For example for GW150914 you will have the datasets called 'GW150914', 'GW150914_R1', 'O1_O2_Preliminary_GW150914_R1'.\n",
    "\n",
    "`find_datasets` also accepts a `detector` keyword to return only those datasets that include data for that detector:"
   ]
  },
  {
   "cell_type": "code",
   "execution_count": 4,
   "metadata": {
    "Collapsed": "false",
    "colab": {
     "base_uri": "https://localhost:8080/",
     "height": 52
    },
    "colab_type": "code",
    "id": "Hjc54bsuQ8N0",
    "outputId": "a25feb8f-2fba-4091-96b6-a997b1875009"
   },
   "outputs": [
    {
     "name": "stdout",
     "output_type": "stream",
     "text": [
      "['GW170729_R1', 'GW170809_R1', 'GW170814', 'GW170814_R1', 'GW170817', 'GW170817_R1', 'GW170818_R1', 'O1_O2_Preliminary_GW170814_R1', 'O1_O2_Preliminary_GW170817_R1', 'O3_Discovery_Papers_GW190412_R1', 'O3_Discovery_Papers_GW190412_R2', 'O3_Discovery_Papers_GW190425_R1']\n",
      "['GW170817', 'GW170817_R1']\n"
     ]
    }
   ],
   "source": [
    "print(find_datasets(type=\"event\", detector=\"V1\"))\n",
    "print(find_datasets(type=\"event\", detector=\"G1\"))"
   ]
  },
  {
   "cell_type": "markdown",
   "metadata": {
    "Collapsed": "false",
    "colab_type": "text",
    "id": "D9_tRXpMQ8N8"
   },
   "source": [
    "`find_datasets` also accepts a `segment` keyword to narrow results based on GPS time:"
   ]
  },
  {
   "cell_type": "code",
   "execution_count": 5,
   "metadata": {
    "Collapsed": "false",
    "colab": {
     "base_uri": "https://localhost:8080/",
     "height": 55
    },
    "colab_type": "code",
    "id": "XZTniqwHQ8N-",
    "outputId": "11adc70a-9cc0-4a38-b45e-45746571da00"
   },
   "outputs": [
    {
     "name": "stdout",
     "output_type": "stream",
     "text": [
      "['GW170104', 'GW170104_R1', 'GW170608', 'GW170608_R1', 'GW170729_R1', 'GW170809_R1', 'GW170814', 'GW170814_R1', 'GW170817', 'GW170817_R1', 'GW170818_R1', 'GW170823_R1', 'MC161202_R1', 'MC161217_R1', 'MC170208_R1', 'MC170219_R1', 'MC170405_R1', 'MC170412_R1', 'MC170423_R1', 'MC170616_R1', 'MC170630_R1', 'MC170705_R1', 'MC170720_R1', 'O1_O2_Preliminary_GW170608_R1', 'O1_O2_Preliminary_GW170814_R1', 'O1_O2_Preliminary_GW170817_R1']\n"
     ]
    }
   ],
   "source": [
    "print(find_datasets(type=\"event\", detector=\"L1\", segment=(1164556817, 1187733618)))"
   ]
  },
  {
   "cell_type": "markdown",
   "metadata": {
    "Collapsed": "false",
    "colab_type": "text",
    "id": "7pnAItOJQ8OC"
   },
   "source": [
    "Using `gwosc.datasets.event_gps`, we can query for the GPS time of a specific event:"
   ]
  },
  {
   "cell_type": "code",
   "execution_count": 6,
   "metadata": {
    "Collapsed": "false",
    "colab": {
     "base_uri": "https://localhost:8080/",
     "height": 35
    },
    "colab_type": "code",
    "id": "tdr8c15_Q8OD",
    "outputId": "d0c58186-4197-459b-e67c-3dfc3db64bbd"
   },
   "outputs": [
    {
     "name": "stdout",
     "output_type": "stream",
     "text": [
      "1187008882.4\n"
     ]
    }
   ],
   "source": [
    "from gwosc.datasets import event_gps\n",
    "gps = event_gps('GW170817')\n",
    "print(gps)"
   ]
  },
  {
   "cell_type": "markdown",
   "metadata": {
    "Collapsed": "false",
    "colab_type": "text",
    "id": "hKvQhYAOQ8OG"
   },
   "source": [
    "<div class=\"alert alert-info\">All of these times are returned in the GPS time system, which counts the number of seconds that have elapsed since the start of the GPS epoch at midnight (00:00) on January 6th 1980. GWOSC provides a <a href=\"https://www.gw-openscience.org/gps/\">GPS time converter</a> you can use to translate into datetime, or you can use <a href=\"https://gwpy.github.io/docs/stable/time/\"><code>gwpy.time</code></a>.</div>"
   ]
  },
  {
   "cell_type": "markdown",
   "metadata": {
    "Collapsed": "false",
    "colab_type": "text",
    "id": "RXVyJsDDQ8OH"
   },
   "source": [
    "We can query for the GPS time interval for an observing run:"
   ]
  },
  {
   "cell_type": "code",
   "execution_count": 7,
   "metadata": {
    "Collapsed": "false",
    "colab": {
     "base_uri": "https://localhost:8080/",
     "height": 35
    },
    "colab_type": "code",
    "id": "QYsQSPNJQ8OK",
    "outputId": "0415258a-cad5-4779-85d2-595ca9c20ce1"
   },
   "outputs": [
    {
     "name": "stdout",
     "output_type": "stream",
     "text": [
      "(1126051217, 1137254417)\n"
     ]
    }
   ],
   "source": [
    "from gwosc.datasets import run_segment\n",
    "print(run_segment('O1'))"
   ]
  },
  {
   "cell_type": "markdown",
   "metadata": {
    "Collapsed": "false",
    "colab_type": "text",
    "id": "ACFu7w4_Q8OO"
   },
   "source": [
    "## Querying for data files\n",
    "\n",
    "The `gwosc.locate` module provides a function to find the URLs of data files associated with a given dataset.\n",
    "\n",
    "For event datasets, one can get the list of URLs using only the event name:"
   ]
  },
  {
   "cell_type": "code",
   "execution_count": 8,
   "metadata": {
    "Collapsed": "false",
    "colab": {
     "base_uri": "https://localhost:8080/",
     "height": 55
    },
    "colab_type": "code",
    "id": "uMb1bsBNQ8OQ",
    "outputId": "ca3f6a31-5adf-45e5-c86d-e8a4696914d5"
   },
   "outputs": [
    {
     "name": "stdout",
     "output_type": "stream",
     "text": [
      "['https://www.gw-openscience.org/eventapi/json/GWTC-1-confident/GW150914/v3/H-H1_GWOSC_4KHZ_R1-1126259447-32.hdf5', 'https://www.gw-openscience.org/eventapi/json/GWTC-1-confident/GW150914/v3/H-H1_GWOSC_4KHZ_R1-1126257415-4096.hdf5', 'https://www.gw-openscience.org/eventapi/json/GWTC-1-confident/GW150914/v3/L-L1_GWOSC_4KHZ_R1-1126259447-32.hdf5', 'https://www.gw-openscience.org/eventapi/json/GWTC-1-confident/GW150914/v3/L-L1_GWOSC_4KHZ_R1-1126257415-4096.hdf5']\n"
     ]
    }
   ],
   "source": [
    "from gwosc.locate import get_event_urls\n",
    "urls = get_event_urls('GW150914')\n",
    "print(urls)"
   ]
  },
  {
   "cell_type": "markdown",
   "metadata": {
    "Collapsed": "false",
    "colab_type": "text",
    "id": "19XV79-XQ8OV"
   },
   "source": [
    "By default, this function returns all of the files associated with a given event, which isn't particularly helpful. However, we can can filter on any of these by using keyword arguments, for example to get the URL for the 32-second file for the LIGO-Livingston detector:"
   ]
  },
  {
   "cell_type": "code",
   "execution_count": 9,
   "metadata": {
    "Collapsed": "false",
    "colab": {
     "base_uri": "https://localhost:8080/",
     "height": 35
    },
    "colab_type": "code",
    "id": "H7MfuRbPQ8OW",
    "outputId": "2fc89919-72db-4bdb-bd4b-e073703cb62a"
   },
   "outputs": [
    {
     "name": "stdout",
     "output_type": "stream",
     "text": [
      "['https://www.gw-openscience.org/eventapi/json/GWTC-1-confident/GW150914/v3/L-L1_GWOSC_4KHZ_R1-1126259447-32.hdf5']\n"
     ]
    }
   ],
   "source": [
    "urls = get_event_urls('GW150914', duration=32, detector='L1')\n",
    "print(urls)"
   ]
  },
  {
   "cell_type": "markdown",
   "metadata": {
    "Collapsed": "false",
    "colab_type": "text",
    "id": "r_YLBpR0Q8Oe"
   },
   "source": [
    "# Exercises\n",
    "\n",
    "Now that you've seen examples of how to query for dataset information using the `gwosc` package, please try and complete the following exercies using that interface:\n",
    "\n",
    "- How many months did S6 last?\n",
    "- How many events were detected during O1 (only confident detections)?\n",
    "- What file URL contains data for V1 4096 seconds around GW170817?"
   ]
  },
  {
   "cell_type": "code",
   "execution_count": null,
   "metadata": {},
   "outputs": [],
   "source": []
  }
 ],
 "metadata": {
  "colab": {
   "name": "Tuto 1.1 Discovering Open Data.ipynb",
   "provenance": []
  },
  "kernelspec": {
   "display_name": "Python 3",
   "language": "python",
   "name": "python3"
  },
  "language_info": {
   "codemirror_mode": {
    "name": "ipython",
    "version": 3
   },
   "file_extension": ".py",
   "mimetype": "text/x-python",
   "name": "python",
   "nbconvert_exporter": "python",
   "pygments_lexer": "ipython3",
   "version": "3.7.6"
  }
 },
 "nbformat": 4,
 "nbformat_minor": 4
}
